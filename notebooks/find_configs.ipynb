{
 "cells": [
  {
   "cell_type": "markdown",
   "metadata": {},
   "source": [
    "## Some useful functions to figure out which settings to use"
   ]
  },
  {
   "cell_type": "code",
   "execution_count": 1,
   "metadata": {},
   "outputs": [],
   "source": [
    "from nbodykit.cosmology import Planck15\n",
    "import numpy as np\n",
    "import matplotlib.pyplot as plt"
   ]
  },
  {
   "cell_type": "code",
   "execution_count": 2,
   "metadata": {},
   "outputs": [],
   "source": [
    "def a2z(a):\n",
    "    return 1./a-1\n",
    "\n",
    "def z2a(z):\n",
    "    return 1./(1.+z)"
   ]
  },
  {
   "cell_type": "code",
   "execution_count": 3,
   "metadata": {},
   "outputs": [],
   "source": [
    "def get_physical_width(cosmology,z_source,fov):\n",
    "    \"\"\"returns physical extent (comoving angular diameter distance) in Mpc/h \n",
    "    of a field of view (fov,in degrees) \n",
    "    at source redhsift z_source for a specific cosmology\"\"\"\n",
    "    chi_source = cosmology.angular_diameter_distance(z_source)\n",
    "    fov_rad    = fov/180.*np.pi\n",
    "    width      = fov_rad*chi_source\n",
    "    \n",
    "    return width*(1+z_source)"
   ]
  },
  {
   "cell_type": "code",
   "execution_count": 4,
   "metadata": {},
   "outputs": [],
   "source": [
    "def get_volume(z_source,FOV, cosmo):\n",
    "    \"\"\"\n",
    "    returns the comoving volume of the lightcone in [Mpc/h]^3\n",
    "    z_source: highest source redshift\n",
    "    FOV: field of view in degrees (2D, in degrees)\n",
    "    \"\"\"\n",
    "    h = cosmo.comoving_distance(z_source)\n",
    "    ls= [deg/180.*np.pi*h for deg in FOV]\n",
    "    V = np.prod(ls)*h/3.\n",
    "    return V"
   ]
  },
  {
   "cell_type": "code",
   "execution_count": 5,
   "metadata": {},
   "outputs": [],
   "source": [
    "def get_fov(cosmo,BoxSize,z_source):\n",
    "    \"\"\"\n",
    "    get the field of view (in degrees) for given boxsize and source redshift\n",
    "    \"\"\"\n",
    "    chi_source = cosmo.angular_diameter_distance(z_source)*(1+z_source)\n",
    "    fov        = BoxSize/chi_source/np.pi*180.\n",
    "    # try to avoid numerical inaccuracies]\n",
    "    frac =0.98\n",
    "    while True:\n",
    "        if np.round(fov*frac,1)<fov*0.99:\n",
    "            break\n",
    "        else:\n",
    "            frac-=0.01\n",
    "    return np.round(fov*frac,1)"
   ]
  },
  {
   "cell_type": "code",
   "execution_count": 6,
   "metadata": {},
   "outputs": [],
   "source": [
    "def get_num_boxes(cosmo, boxsize, z_source):\n",
    "    \"\"\"\n",
    "    number of box repetitions up source redshift\n",
    "    \"\"\"\n",
    "    h   = cosmo.comoving_distance(z_source)\n",
    "    num = h/boxsize\n",
    "    return num"
   ]
  },
  {
   "cell_type": "code",
   "execution_count": 7,
   "metadata": {},
   "outputs": [],
   "source": [
    "cosmo_fid  = Planck15\n",
    "cosmo_min  = Planck15.match(Omega0_m=0.05)\n",
    "cosmo_max  = Planck15.match(Omega0_m=0.95)\n",
    "boxsizes   = [512,256,128]\n",
    "z_sources  = [0.5,1.0,1.5,2.0, cosmo_fid.z_rec]"
   ]
  },
  {
   "cell_type": "code",
   "execution_count": 8,
   "metadata": {},
   "outputs": [
    {
     "name": "stdout",
     "output_type": "stream",
     "text": [
      "Boxsize:  512 z_source:  0.5 FOV:  21.8\n",
      "Boxsize:  512 z_source:  1.0 FOV:  12.5\n",
      "Boxsize:  512 z_source:  1.5 FOV:  9.5\n",
      "Boxsize:  512 z_source:  2.0 FOV:  8.0\n",
      "Boxsize:  512 z_source:  1088.8772397040461 FOV:  3.0\n",
      "Boxsize:  256 z_source:  0.5 FOV:  10.9\n",
      "Boxsize:  256 z_source:  1.0 FOV:  6.2\n",
      "Boxsize:  256 z_source:  1.5 FOV:  4.7\n",
      "Boxsize:  256 z_source:  2.0 FOV:  4.0\n",
      "Boxsize:  256 z_source:  1088.8772397040461 FOV:  1.5\n",
      "Boxsize:  128 z_source:  0.5 FOV:  5.5\n",
      "Boxsize:  128 z_source:  1.0 FOV:  3.1\n",
      "Boxsize:  128 z_source:  1.5 FOV:  2.3\n",
      "Boxsize:  128 z_source:  2.0 FOV:  2.0\n",
      "Boxsize:  128 z_source:  1088.8772397040461 FOV:  0.7\n"
     ]
    }
   ],
   "source": [
    "for boxsize in boxsizes:\n",
    "    for zs in z_sources:\n",
    "        print('Boxsize: ', boxsize, 'z_source: ', zs, 'FOV: ', get_fov(Planck15,boxsize,zs))"
   ]
  },
  {
   "cell_type": "code",
   "execution_count": 10,
   "metadata": {},
   "outputs": [
    {
     "name": "stdout",
     "output_type": "stream",
     "text": [
      "9420.418624514954\n"
     ]
    }
   ],
   "source": [
    "print(cosmo_fid.comoving_distance(cosmo_fid.z_rec))"
   ]
  },
  {
   "cell_type": "code",
   "execution_count": 12,
   "metadata": {},
   "outputs": [
    {
     "data": {
      "text/plain": [
       "2355.0"
      ]
     },
     "execution_count": 12,
     "metadata": {},
     "output_type": "execute_result"
    }
   ],
   "source": [
    "cosmo_fid.comoving_distance(cosmo_fid.z_rec)//4"
   ]
  },
  {
   "cell_type": "code",
   "execution_count": null,
   "metadata": {},
   "outputs": [],
   "source": []
  }
 ],
 "metadata": {
  "kernelspec": {
   "display_name": "fwdmodel",
   "language": "python",
   "name": "fwdmodel"
  },
  "language_info": {
   "codemirror_mode": {
    "name": "ipython",
    "version": 3
   },
   "file_extension": ".py",
   "mimetype": "text/x-python",
   "name": "python",
   "nbconvert_exporter": "python",
   "pygments_lexer": "ipython3",
   "version": "3.7.7"
  }
 },
 "nbformat": 4,
 "nbformat_minor": 4
}
