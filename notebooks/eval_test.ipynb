{
 "cells": [
  {
   "cell_type": "markdown",
   "metadata": {},
   "source": [
    "This is setup so that if a <0 the computation should give 0 if a >0 it should give 1"
   ]
  },
  {
   "cell_type": "code",
   "execution_count": 1,
   "metadata": {
    "ExecuteTime": {
     "end_time": "2020-01-17T22:07:25.129382Z",
     "start_time": "2020-01-17T22:07:25.118182Z"
    }
   },
   "outputs": [],
   "source": [
    "init = dict(a= 1)"
   ]
  },
  {
   "cell_type": "code",
   "execution_count": 17,
   "metadata": {
    "ExecuteTime": {
     "end_time": "2020-01-17T22:17:49.429212Z",
     "start_time": "2020-01-17T22:17:49.412811Z"
    }
   },
   "outputs": [
    {
     "name": "stdout",
     "output_type": "stream",
     "text": [
      "[]\n"
     ]
    },
    {
     "data": {
      "text/plain": [
       "[]"
      ]
     },
     "execution_count": 17,
     "metadata": {},
     "output_type": "execute_result"
    }
   ],
   "source": [
    "from vmad import Builder, autooperator, operator\n",
    "from vmad.core import stdlib\n",
    "@autooperator('a->b')\n",
    "def eval_test(a):\n",
    "#     bool_test = stdlib.eval(a, lambda a, test_value = 0:a)\n",
    "    b= stdlib.watchpoint(a,lambda a: 0 if a >0 else 1)\n",
    "    print(b)\n",
    "#     ans = bool_test <0\n",
    "#     print(bool_test)\n",
    "#     if bool_test==True:\n",
    "#         return dict(b=1)\n",
    "#     else:\n",
    "#         return dict(b=0)\n",
    "    return dict(b = b)\n",
    "m = eval_test.build()\n",
    "m.compute(init = init, vout='b')"
   ]
  },
  {
   "cell_type": "markdown",
   "metadata": {},
   "source": [
    "Something aint working"
   ]
  },
  {
   "cell_type": "code",
   "execution_count": 26,
   "metadata": {
    "ExecuteTime": {
     "end_time": "2020-01-17T22:22:36.968452Z",
     "start_time": "2020-01-17T22:22:36.962565Z"
    }
   },
   "outputs": [],
   "source": [
    "from vmad.core.symbol import Symbol\n",
    "from vmad.core.operator import operator\n",
    "from vmad import Builder\n",
    "\n",
    "def test_symbol_eval():\n",
    "    with Builder() as m:\n",
    "        a = m.input('a')\n",
    "        b = a.eval(lambda a: len(a))\n",
    "        print(b)\n",
    "        m.output(\n",
    "                b=b,\n",
    "                c=a.eval(\"len(x)\"),\n",
    "                )\n",
    "        \n",
    "\n",
    "    x = m.compute(['b', 'c'], init=dict(a=[1, 2, 3]))\n",
    "#     m.compute_with_vjp(init=dict(a=[1, 2, 3]), v=dict(_b=1.0, _c=1.0))\n",
    "#     m.compute_with_jvp(['b', 'c'], init=dict(a=[1, 2, 3]), v=dict(a_=1.0))\n",
    "    print(x)"
   ]
  },
  {
   "cell_type": "code",
   "execution_count": 27,
   "metadata": {
    "ExecuteTime": {
     "end_time": "2020-01-17T22:22:38.273425Z",
     "start_time": "2020-01-17T22:22:38.262389Z"
    }
   },
   "outputs": [
    {
     "name": "stdout",
     "output_type": "stream",
     "text": [
      "eval-apl-2f902959548042e0a4f5e3964a58d1a8-y\n",
      "[3, 3]\n"
     ]
    }
   ],
   "source": [
    "test_symbol_eval()"
   ]
  },
  {
   "cell_type": "code",
   "execution_count": null,
   "metadata": {},
   "outputs": [],
   "source": []
  }
 ],
 "metadata": {
  "kernelspec": {
   "display_name": "fwdmodel",
   "language": "python",
   "name": "fwdmodel"
  },
  "language_info": {
   "codemirror_mode": {
    "name": "ipython",
    "version": 3
   },
   "file_extension": ".py",
   "mimetype": "text/x-python",
   "name": "python",
   "nbconvert_exporter": "python",
   "pygments_lexer": "ipython3",
   "version": "3.7.4"
  }
 },
 "nbformat": 4,
 "nbformat_minor": 2
}
