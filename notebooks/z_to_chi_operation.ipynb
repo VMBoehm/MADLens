{
 "cells": [
  {
   "cell_type": "code",
   "execution_count": 2,
   "metadata": {
    "ExecuteTime": {
     "end_time": "2020-01-23T18:37:02.136014Z",
     "start_time": "2020-01-23T18:37:00.689827Z"
    }
   },
   "outputs": [],
   "source": [
    "from vmad import Builder\n",
    "from vmad import autooperator\n",
    "from vmad import operator\n",
    "import numpy as np\n",
    "import matplotlib.pyplot as plt\n",
    "from scipy.interpolate import interp1d \n",
    "from scipy.integrate import quad\n",
    "from scipy.misc import derivative\n",
    "from nbodykit.cosmology import Planck15\n",
    "\n",
    "import matplotlib.pyplot as plt"
   ]
  },
  {
   "cell_type": "code",
   "execution_count": 2,
   "metadata": {
    "ExecuteTime": {
     "end_time": "2019-11-26T23:46:51.185856Z",
     "start_time": "2019-11-26T23:46:51.173877Z"
    }
   },
   "outputs": [],
   "source": [
    "%matplotlib notebook"
   ]
  },
  {
   "cell_type": "code",
   "execution_count": 32,
   "metadata": {
    "ExecuteTime": {
     "end_time": "2019-11-27T20:57:14.659929Z",
     "start_time": "2019-11-27T20:57:14.655598Z"
    }
   },
   "outputs": [
    {
     "data": {
      "text/plain": [
       "0.25813909378966493"
      ]
     },
     "execution_count": 32,
     "metadata": {},
     "output_type": "execute_result"
    }
   ],
   "source": [
    "cosmo.get_pk()"
   ]
  },
  {
   "cell_type": "code",
   "execution_count": 3,
   "metadata": {
    "ExecuteTime": {
     "end_time": "2019-11-26T23:46:52.908911Z",
     "start_time": "2019-11-26T23:46:51.629237Z"
    }
   },
   "outputs": [],
   "source": [
    "cosmo = Planck15.match(Omega0_m=.308)\n",
    "cosmo = cosmo.match(sigma8=.8158)"
   ]
  },
  {
   "cell_type": "markdown",
   "metadata": {},
   "source": [
    "To find the comoving distance as a function of reshift we use the equation from Peebles 1993\n",
    "\n",
    "\\begin{equation}\n",
    "\\chi = \\dfrac{c}{H_0}\\int_0^z\\dfrac{dz'}{E(z')^{1/2}}\n",
    "\\end{equation}\n",
    "\n",
    "Where \n",
    "\n",
    "\\begin{equation}\n",
    "E(\\Omega_{m0}, \\Omega_{r0}, \\Omega_{\\Lambda 0}, z ) = \\Omega_{m0}(1+z)^3+\\Omega_{r0}(1+z)^2+\\Omega_{\\Lambda 0}\n",
    "\\end{equation}.\n",
    "\n",
    "Using ```scipy.integrate.quad```, We can integrate this to find the redshifts to different redshifts. The jacobian of the comoving distance with respect to $\\Omega_{m0}, \\Omega_{r0}, \\Omega_{\\Lambda 0}, z$ is , \n",
    "\n",
    "\\begin{equation}\n",
    "\\textbf{J} = \n",
    "\\begin{split}\n",
    "    \\begin{bmatrix}\n",
    "    \\partial_{\\Omega_{m0}} \\chi(\\Omega_{m0}, \\Omega_{r0}, \\Omega_{\\Lambda 0}, z)\\\\\n",
    "    \\partial_{\\Omega_{r0}} \\chi(\\Omega_{m0}, \\Omega_{r0}, \\Omega_{\\Lambda 0}, z)\\\\\n",
    "    \\partial_{\\Omega_{\\Lambda 0}} \\chi(\\Omega_{m0}, \\Omega_{r0}, \\Omega_{\\Lambda 0}, z)\\\\\n",
    "    \\partial_{z}\\chi(\\Omega_{m0}, \\Omega_{r0}, \\Omega_{\\Lambda 0}, z)\n",
    "    \\end{bmatrix}\n",
    "\\end{split}\n",
    "\\end{equation}\n",
    "\n",
    "Which becomes, \n",
    "\\begin{equation}\n",
    "\\textbf{J} = \n",
    "\\begin{split}\n",
    "\\begin{bmatrix}\n",
    "\\dfrac{-c}{2H_0}\\int_0^z \\dfrac{ (1+z')^3}{E(\\Omega_{m0}, \\Omega_{r0}, \\Omega_{\\Lambda 0}, z')^{3/2}}dz'\\\\\n",
    "\\dfrac{-c}{2H_0} \\int_0^z \\dfrac{ (1+z')^2}{E(\\Omega_{m0}, \\Omega_{r0}, \\Omega_{\\Lambda 0}, z')^{3/2}}dz'\\\\\n",
    "\\dfrac{-c}{2H_0} \\int_0^z \\dfrac{ 1}{E(\\Omega_{m0}, \\Omega_{r0}, \\Omega_{\\Lambda 0}, z')^{3/2}}dz'\\\\\n",
    "\\dfrac{c}{H_0}\\dfrac{1}{E(\\Omega_{m0}, \\Omega_{r0}, \\Omega_{\\Lambda 0}, z')^{1/2}}\n",
    "\\end{bmatrix}\n",
    "\\end{split}\n",
    "\\end{equation}\n",
    "\n",
    "So that if theres a vector which is, \n",
    "\\begin{equation}\n",
    "\\vec{v} = \n",
    "\\begin{bmatrix}\n",
    "v_1,  \\dots, v_4\n",
    "\\end{bmatrix}\n",
    "\\end{equation}\n",
    "which has dimensions of the output paramater.\n",
    "The vjp is defined as, \n",
    "\\begin{equation}\n",
    "vjp = \\vec{v}\\textbf{J}\n",
    "\\end{equation}\n",
    "which has dimensions of the input paramaters. Similarly, if the vector is, \n",
    "\\begin{equation}\n",
    "\\vec{v} = \n",
    "\\begin{bmatrix}\n",
    "v_1\n",
    "\\end{bmatrix}\n",
    "\\end{equation}\n",
    "which has dimensions of the input parameters and the jvp is defined as \n",
    "\\begin{equation}\n",
    "jvp = \\textbf{J}\\vec{v}\n",
    "\\end{equation}\n",
    "Which has size of the input parameters"
   ]
  },
  {
   "cell_type": "markdown",
   "metadata": {},
   "source": [
    "Because of the flat space time, angular diameter distance is equal to comoving distance and we let $\\Omega_k\\sim\\Omega_r\\sim 0$ so that $\\Omega_\\Lambda = 1-\\Omega_m$. This lets us simplify the equation to let, \n",
    "\\begin{equation}\n",
    "E(\\Omega_{m0},z') = \\Omega_{m0}((1+z)^3 -1)+1\n",
    "\\end{equation}\n",
    "and the Jacobian simplifies to two terms, \n",
    "\\begin{equation}\n",
    "\\textbf{J} = \n",
    "\\begin{split}\n",
    "\\begin{bmatrix}\n",
    "\\dfrac{-c}{2H_0}\\int_0^z \\dfrac{(1+z')^3-1}{E(\\Omega_{m0}, z')^{3/2}}dz'\\\\\n",
    "\\dfrac{c}{H_0}\\dfrac{1}{E(\\Omega_{m0}, z')^{1/2}}\n",
    "\\end{bmatrix}\n",
    "\\end{split}\n",
    "\\end{equation}"
   ]
  },
  {
   "cell_type": "code",
   "execution_count": 15,
   "metadata": {
    "ExecuteTime": {
     "end_time": "2019-11-27T00:58:44.122730Z",
     "start_time": "2019-11-27T00:58:44.109642Z"
    },
    "code_folding": [
     2,
     9,
     12,
     16
    ]
   },
   "outputs": [],
   "source": [
    "#Vanessas operator \n",
    "@operator\n",
    "class z_chi:\n",
    "    \"\"\"\n",
    "    go from redshift distance to comoving\n",
    "    \"\"\"\n",
    "    ain  = {'z' : 'ndarray'}\n",
    "    aout = {'chi': 'ndarray'}\n",
    "\n",
    "    def apl(node, z, cosmo):\n",
    "        return dict(chi = cosmo.comoving_distance(z))\n",
    "    \n",
    "    def vjp(node, _chi, z, cosmo):\n",
    "        res = 1./cosmo.efunc(z)/cosmo.H0*cosmo.C\n",
    "        return dict(_z = np.multiply(res,_chi))\n",
    "    \n",
    "    def jvp(node, z_, z, cosmo):\n",
    "        res = 1./cosmo.efunc(z)/cosmo.H0*cosmo.C\n",
    "        return dict(chi_ = np.multiply(res,z_))"
   ]
  },
  {
   "cell_type": "code",
   "execution_count": 33,
   "metadata": {
    "ExecuteTime": {
     "end_time": "2019-11-29T23:39:27.961521Z",
     "start_time": "2019-11-29T23:39:27.929365Z"
    },
    "code_folding": [
     6,
     12,
     24
    ]
   },
   "outputs": [],
   "source": [
    "#Max's Operator for matter\n",
    "@operator\n",
    "class z_chi_matter:\n",
    "    ain  = {'omega0_m': 'float', 'z':'float'}\n",
    "    aout = {'chi':'float'}\n",
    "\n",
    "    def apl(node, omega0_m, z):\n",
    "        #Calculate the integral from 0->z\n",
    "        E         = lambda x: (omega0_m  * ((1+x)**3 -1)+1)**(-1/2)\n",
    "        Dc , _    = quad(E, 0, z)\n",
    "        return dict(chi = Dc*cosmo.C/cosmo.H0)\n",
    "    \n",
    "    def vjp(node, _chi, omega0_m, z):\n",
    "        \n",
    "        #Return the derivative of the integral WR2 omega0_m and mult by _chi\n",
    "        _omega0_m  =  _chi  *  quad(deriv_integral, 0, z, args=(omega0_m))[0] \n",
    "        \n",
    "        \n",
    "        #Calculate the derivative of the integral with respect to z i.e. the original function\n",
    "        _z         =  _chi  * (omega0_m * ((1+z)**3 -1)+1)**(-1/2) \n",
    "        \n",
    "        #Multiply by hubble distance and return\n",
    "        return dict(_omega0_m = _omega0_m*cosmo.C/cosmo.H0, _z= _z*cosmo.C/cosmo.H0 )\n",
    "    \n",
    "    def jvp(node, omega0_m_, z_, omega0_m, z):\n",
    "        \n",
    "        #Find derivative with respevct to omega_0 and mult by omega0_m_\n",
    "        omega0_m_   *= omega0_m_ * quad(deriv_integral, 0, z, args=(omega0_m))[0]\n",
    "        \n",
    "        #Do same for z\n",
    "        z_          *=  (omega0_m * ((1+z)**3 -1) +1)**(-1/2)\n",
    "        \n",
    "        #Multiply by hubble distance\n",
    "        return dict(chi_ = omega0_m_*cosmo.C/cosmo.H0   + z_*cosmo.C/cosmo.H0 )\n",
    "    \n"
   ]
  },
  {
   "cell_type": "code",
   "execution_count": 34,
   "metadata": {
    "ExecuteTime": {
     "end_time": "2019-11-29T23:39:29.198818Z",
     "start_time": "2019-11-29T23:39:29.190184Z"
    },
    "code_folding": [
     13
    ]
   },
   "outputs": [],
   "source": [
    "def deriv_integral(x, omega0_m):\n",
    "    \"\"\"\n",
    "    Derivative of the comoving distance with respect to matter density\n",
    "    \n",
    "    \"\"\"\n",
    "    \n",
    "    #Create the denominator of the integral\n",
    "    E = (omega0_m * ((1+x)**3 -1)+ 1)**(-3/2)\n",
    "    \n",
    "    diriv_factor = (-1/2) * ((1+x)**3-1)\n",
    "\n",
    "    return E*diriv_factor\n",
    "\n",
    "def finite_difference(x, h):\n",
    "    \"\"\"\n",
    "    Forward differencing model for matter density\n",
    "    \"\"\"\n",
    "    om0 = cosmo.Omega0_m\n",
    "    denom_1 = ((om0+h)*((1+x)**3-1)+1)**(-1/2)\n",
    "    denom_2 = (om0*((1+x)**3-1)+1)**(-1/2)\n",
    "    const = cosmo.C/(h*cosmo.H0)\n",
    "    \n",
    "    \n",
    "    return const*(denom_1-denom_2)"
   ]
  },
  {
   "cell_type": "code",
   "execution_count": 35,
   "metadata": {
    "ExecuteTime": {
     "end_time": "2019-11-29T23:39:29.940493Z",
     "start_time": "2019-11-29T23:39:29.933005Z"
    },
    "code_folding": [
     1,
     6
    ]
   },
   "outputs": [],
   "source": [
    "@autooperator('z->chi')\n",
    "def z_chi_van(z):\n",
    "    f =  z_chi(z, cosmo)\n",
    "    return dict(chi=f)\n",
    "\n",
    "@autooperator('m0, z->chi')\n",
    "def z_chi_matter_1(m0, z):\n",
    "    f= z_chi_matter(m0, z)\n",
    "    return dict(chi=f)"
   ]
  },
  {
   "cell_type": "code",
   "execution_count": 36,
   "metadata": {
    "ExecuteTime": {
     "end_time": "2019-11-29T23:39:30.915774Z",
     "start_time": "2019-11-29T23:39:30.859917Z"
    },
    "code_folding": [
     0,
     2,
     9
    ]
   },
   "outputs": [
    {
     "name": "stdout",
     "output_type": "stream",
     "text": [
      "chi error less than .01%:  True\n"
     ]
    }
   ],
   "source": [
    "#Compute the model for vanessas and my operators and check errors are small\n",
    "model_van = z_chi_van.build()\n",
    "chi_van,tape_van = model_van.compute(init=dict(z=1), \n",
    "                                     vout='chi',\n",
    "                                     return_tape=True)\n",
    "\n",
    "\n",
    "\n",
    "model_matter = z_chi_matter_1.build()\n",
    "chi_matter,tape_matter = model_matter.compute(init=dict(m0 =cosmo.Omega0_m , z=1), \n",
    "                                              vout='chi', \n",
    "                                              return_tape=True)\n",
    "\n",
    "\n",
    "error = np.abs(np.asarray(chi_matter)- np.asarray(chi_van))/np.asarray(chi_van) < 1e-4\n",
    "print('chi error less than .01%: ', error)\n"
   ]
  },
  {
   "cell_type": "code",
   "execution_count": 37,
   "metadata": {
    "ExecuteTime": {
     "end_time": "2019-11-29T23:39:31.310783Z",
     "start_time": "2019-11-29T23:39:31.298811Z"
    },
    "code_folding": [
     0
    ]
   },
   "outputs": [
    {
     "name": "stdout",
     "output_type": "stream",
     "text": [
      "_z error less than .1%:  True\n",
      "_m error less than .001%:  True\n"
     ]
    }
   ],
   "source": [
    "#Compute the vjp for vanessas and my model and check that errors are small, \n",
    "#Use the finite difference function for matter density to make sure errors are small\n",
    "vjp_init = dict(_chi = 1)\n",
    "\n",
    "\n",
    "vjp_matter = tape_matter.get_vjp()\n",
    "_m0, _z_matter= vjp_matter.compute(init=vjp_init, vout=['_m0', '_z'])\n",
    "\n",
    "\n",
    "vjp_vanessa = tape_van.get_vjp()\n",
    "_z= vjp_vanessa.compute(init=vjp_init, vout=['_z'])\n",
    "\n",
    "#Check that error is small\n",
    "error_z = np.abs(_z[0]- _z_matter)/_z < 1e-3\n",
    "error_m = np.abs(quad(finite_difference, 0, 1, args = (.00000001))[0] - _m0)/quad(finite_difference, 0, 1, args = (.00000001))[0] < 1e-5\n",
    "\n",
    "print('_z error less than .1%: ', error_z[0])\n",
    "print('_m error less than .001%: ', error_m)"
   ]
  },
  {
   "cell_type": "code",
   "execution_count": 38,
   "metadata": {
    "ExecuteTime": {
     "end_time": "2019-11-29T23:39:31.667921Z",
     "start_time": "2019-11-29T23:39:31.658486Z"
    },
    "code_folding": [
     0
    ],
    "scrolled": true
   },
   "outputs": [
    {
     "name": "stdout",
     "output_type": "stream",
     "text": [
      "chi_ error less than .1% True\n"
     ]
    }
   ],
   "source": [
    "#Check the JVP\n",
    "jvp_init = dict(m0_ = 0, z_ = 1)\n",
    "\n",
    "jvp_matter = tape_matter.get_jvp()\n",
    "chi_matter_ = jvp_matter.compute(init=jvp_init, vout=['chi_'])\n",
    "\n",
    "jvp_init = dict(z_ = 1)\n",
    "jvp_vanessa = tape_van.get_jvp()\n",
    "chi_van_ = jvp_vanessa.compute(init=jvp_init, vout=['chi_'])\n",
    "\n",
    "error = np.abs(chi_van_[0]-chi_matter_)/chi_van_[0] <1e-3\n",
    "print('chi_ error less than .1%', error[0])"
   ]
  },
  {
   "cell_type": "code",
   "execution_count": 43,
   "metadata": {
    "ExecuteTime": {
     "end_time": "2019-11-29T23:39:49.049828Z",
     "start_time": "2019-11-29T23:39:49.045199Z"
    }
   },
   "outputs": [
    {
     "data": {
      "text/plain": [
       "2301.8042810349148"
      ]
     },
     "execution_count": 43,
     "metadata": {},
     "output_type": "execute_result"
    }
   ],
   "source": [
    "chi_matter"
   ]
  },
  {
   "cell_type": "markdown",
   "metadata": {},
   "source": [
    "# Current matter density and maximum distance\n"
   ]
  },
  {
   "cell_type": "code",
   "execution_count": 12,
   "metadata": {
    "ExecuteTime": {
     "end_time": "2020-01-23T18:48:50.633841Z",
     "start_time": "2020-01-23T18:48:48.017550Z"
    }
   },
   "outputs": [
    {
     "data": {
      "text/plain": [
       "(3496.212085878297, 3669.5871332814636)"
      ]
     },
     "execution_count": 12,
     "metadata": {},
     "output_type": "execute_result"
    }
   ],
   "source": [
    "#Current omega0_m \n",
    "Omega0_m = .3153\n",
    "error    = .0073\n",
    "Omega0_m_plus4x = Omega0_m+4*error\n",
    "Omega0_m_minus4x = Omega0_m-4*error\n",
    "\n",
    "cosmo_plus4x  = Planck15.match(Omega0_m=Omega0_m_plus4x)\n",
    "cosmo_plus4x = cosmo_plus4x.match(sigma8=.8158)\n",
    "cosmo_minus4x = Planck15.match(Omega0_m=Omega0_m_minus4x)\n",
    "cosmo_minus4x = cosmo_minus4x.match(sigma8=.8158)\n",
    "\n",
    "chi_plus4x = cosmo_plus4x.comoving_distance(2)\n",
    "chi_minus4x = cosmo_minus4x.comoving_distance(2)\n",
    "\n",
    "chi_plus4x, chi_minus4x"
   ]
  },
  {
   "cell_type": "markdown",
   "metadata": {
    "ExecuteTime": {
     "end_time": "2020-01-23T18:47:05.879369Z",
     "start_time": "2020-01-23T18:47:05.875716Z"
    }
   },
   "source": [
    "$\\Omega_{0,m} +4\\sigma = 3496.212085878297 \\ \\ \\ \\ \\ \\ $\n",
    "$\\Omega_{0,m} -4\\sigma = 3669.5871332814636$"
   ]
  },
  {
   "cell_type": "code",
   "execution_count": 7,
   "metadata": {
    "ExecuteTime": {
     "end_time": "2020-01-23T18:44:20.297068Z",
     "start_time": "2020-01-23T18:44:20.292081Z"
    }
   },
   "outputs": [
    {
     "name": "stdout",
     "output_type": "stream",
     "text": [
      "3496.212085878297 3669.5871332814636\n"
     ]
    }
   ],
   "source": []
  },
  {
   "cell_type": "code",
   "execution_count": null,
   "metadata": {},
   "outputs": [],
   "source": []
  },
  {
   "cell_type": "code",
   "execution_count": null,
   "metadata": {},
   "outputs": [],
   "source": []
  },
  {
   "cell_type": "code",
   "execution_count": null,
   "metadata": {},
   "outputs": [],
   "source": []
  },
  {
   "cell_type": "code",
   "execution_count": null,
   "metadata": {},
   "outputs": [],
   "source": []
  },
  {
   "cell_type": "code",
   "execution_count": null,
   "metadata": {},
   "outputs": [],
   "source": []
  },
  {
   "cell_type": "code",
   "execution_count": null,
   "metadata": {},
   "outputs": [],
   "source": []
  },
  {
   "cell_type": "code",
   "execution_count": null,
   "metadata": {},
   "outputs": [],
   "source": []
  },
  {
   "cell_type": "code",
   "execution_count": 7,
   "metadata": {
    "ExecuteTime": {
     "end_time": "2019-12-26T15:57:21.005834Z",
     "start_time": "2019-12-26T15:57:21.002946Z"
    }
   },
   "outputs": [],
   "source": [
    "from vmad.core import stdlib"
   ]
  },
  {
   "cell_type": "code",
   "execution_count": 8,
   "metadata": {
    "ExecuteTime": {
     "end_time": "2019-12-26T15:57:21.563286Z",
     "start_time": "2019-12-26T15:57:21.559923Z"
    }
   },
   "outputs": [],
   "source": [
    "def test(a):\n",
    "    return 23*a"
   ]
  },
  {
   "cell_type": "code",
   "execution_count": 16,
   "metadata": {
    "ExecuteTime": {
     "end_time": "2019-12-26T15:58:11.266946Z",
     "start_time": "2019-12-26T15:58:11.262762Z"
    }
   },
   "outputs": [],
   "source": [
    "@autooperator('a, b->c')\n",
    "def trying(a,b):\n",
    "    stdlib.assert_true(a, lambda a: a>0)\n",
    "    print(x)\n",
    "    return dict(c=x)"
   ]
  },
  {
   "cell_type": "code",
   "execution_count": 17,
   "metadata": {
    "ExecuteTime": {
     "end_time": "2019-12-26T15:58:11.687420Z",
     "start_time": "2019-12-26T15:58:11.668012Z"
    }
   },
   "outputs": [
    {
     "ename": "NameError",
     "evalue": "name 'x' is not defined",
     "output_type": "error",
     "traceback": [
      "\u001b[0;31m---------------------------------------------------------------------------\u001b[0m",
      "\u001b[0;31mNameError\u001b[0m                                 Traceback (most recent call last)",
      "\u001b[0;32m<ipython-input-17-d70a8d62148b>\u001b[0m in \u001b[0;36m<module>\u001b[0;34m\u001b[0m\n\u001b[0;32m----> 1\u001b[0;31m \u001b[0mm\u001b[0m \u001b[0;34m=\u001b[0m \u001b[0mtrying\u001b[0m\u001b[0;34m.\u001b[0m\u001b[0mbuild\u001b[0m\u001b[0;34m(\u001b[0m\u001b[0;34m)\u001b[0m\u001b[0;34m\u001b[0m\u001b[0;34m\u001b[0m\u001b[0m\n\u001b[0m",
      "\u001b[0;32m~/anaconda3/envs/lensing_sim/lib/python3.7/site-packages/vmad/core/autooperator.py\u001b[0m in \u001b[0;36mbuild\u001b[0;34m(__instance__1234__, **kwargs)\u001b[0m\n\u001b[1;32m    163\u001b[0m                 \u001b[0;32mraise\u001b[0m \u001b[0mModelError\u001b[0m\u001b[0;34m(\u001b[0m\u001b[0;34m\"argname %s is an input, shall not be used to produce a model\"\u001b[0m \u001b[0;34m%\u001b[0m \u001b[0margname\u001b[0m\u001b[0;34m)\u001b[0m\u001b[0;34m\u001b[0m\u001b[0;34m\u001b[0m\u001b[0m\n\u001b[1;32m    164\u001b[0m \u001b[0;34m\u001b[0m\u001b[0m\n\u001b[0;32m--> 165\u001b[0;31m         \u001b[0;32mreturn\u001b[0m \u001b[0mself\u001b[0m\u001b[0;34m.\u001b[0m\u001b[0m_build\u001b[0m\u001b[0;34m(\u001b[0m\u001b[0mkwargs\u001b[0m\u001b[0;34m)\u001b[0m\u001b[0;34m\u001b[0m\u001b[0;34m\u001b[0m\u001b[0m\n\u001b[0m\u001b[1;32m    166\u001b[0m \u001b[0;34m\u001b[0m\u001b[0m\n\u001b[1;32m    167\u001b[0m \u001b[0;34m\u001b[0m\u001b[0m\n",
      "\u001b[0;32m~/anaconda3/envs/lensing_sim/lib/python3.7/site-packages/vmad/core/autooperator.py\u001b[0m in \u001b[0;36m_build\u001b[0;34m(self, kwargs)\u001b[0m\n\u001b[1;32m    146\u001b[0m             \u001b[0;32mfor\u001b[0m \u001b[0margname\u001b[0m \u001b[0;32min\u001b[0m \u001b[0mself\u001b[0m\u001b[0;34m.\u001b[0m\u001b[0main\u001b[0m\u001b[0;34m:\u001b[0m\u001b[0;34m\u001b[0m\u001b[0;34m\u001b[0m\u001b[0m\n\u001b[1;32m    147\u001b[0m                 \u001b[0mmodel_args\u001b[0m\u001b[0;34m[\u001b[0m\u001b[0margname\u001b[0m\u001b[0;34m]\u001b[0m \u001b[0;34m=\u001b[0m \u001b[0mm\u001b[0m\u001b[0;34m.\u001b[0m\u001b[0minput\u001b[0m\u001b[0;34m(\u001b[0m\u001b[0margname\u001b[0m\u001b[0;34m)\u001b[0m\u001b[0;34m\u001b[0m\u001b[0;34m\u001b[0m\u001b[0m\n\u001b[0;32m--> 148\u001b[0;31m             \u001b[0mr\u001b[0m \u001b[0;34m=\u001b[0m \u001b[0mimpl\u001b[0m\u001b[0;34m(\u001b[0m\u001b[0mm\u001b[0m\u001b[0;34m,\u001b[0m \u001b[0;34m**\u001b[0m\u001b[0mmodel_args\u001b[0m\u001b[0;34m)\u001b[0m\u001b[0;34m\u001b[0m\u001b[0;34m\u001b[0m\u001b[0m\n\u001b[0m\u001b[1;32m    149\u001b[0m             \u001b[0;31m# assert outputs are generated\u001b[0m\u001b[0;34m\u001b[0m\u001b[0;34m\u001b[0m\u001b[0;34m\u001b[0m\u001b[0m\n\u001b[1;32m    150\u001b[0m             \u001b[0;32mfor\u001b[0m \u001b[0margname\u001b[0m \u001b[0;32min\u001b[0m \u001b[0mself\u001b[0m\u001b[0;34m.\u001b[0m\u001b[0maout\u001b[0m\u001b[0;34m:\u001b[0m\u001b[0;34m\u001b[0m\u001b[0;34m\u001b[0m\u001b[0m\n",
      "\u001b[0;32m~/anaconda3/envs/lensing_sim/lib/python3.7/site-packages/vmad/core/autooperator.py\u001b[0m in \u001b[0;36mmain\u001b[0;34m(__unused_argument_3333__, *args, **kwargs)\u001b[0m\n\u001b[1;32m    214\u001b[0m \u001b[0;34m\u001b[0m\u001b[0m\n\u001b[1;32m    215\u001b[0m         \u001b[0;31m# always call with the kwargs syntax, such that\u001b[0m\u001b[0;34m\u001b[0m\u001b[0;34m\u001b[0m\u001b[0;34m\u001b[0m\u001b[0m\n\u001b[0;32m--> 216\u001b[0;31m         \u001b[0mr\u001b[0m \u001b[0;34m=\u001b[0m \u001b[0mfunc\u001b[0m\u001b[0;34m(\u001b[0m\u001b[0;34m**\u001b[0m\u001b[0mkwargs\u001b[0m\u001b[0;34m)\u001b[0m\u001b[0;34m\u001b[0m\u001b[0;34m\u001b[0m\u001b[0m\n\u001b[0m\u001b[1;32m    217\u001b[0m         \u001b[0;31m# normalize the output to a dict.\u001b[0m\u001b[0;34m\u001b[0m\u001b[0;34m\u001b[0m\u001b[0;34m\u001b[0m\u001b[0m\n\u001b[1;32m    218\u001b[0m         \u001b[0;32mif\u001b[0m \u001b[0misinstance\u001b[0m\u001b[0;34m(\u001b[0m\u001b[0mr\u001b[0m\u001b[0;34m,\u001b[0m \u001b[0mtuple\u001b[0m\u001b[0;34m)\u001b[0m\u001b[0;34m:\u001b[0m\u001b[0;34m\u001b[0m\u001b[0;34m\u001b[0m\u001b[0m\n",
      "\u001b[0;32m<ipython-input-16-1ae9481384fc>\u001b[0m in \u001b[0;36mtrying\u001b[0;34m(a, b)\u001b[0m\n\u001b[1;32m      2\u001b[0m \u001b[0;32mdef\u001b[0m \u001b[0mtrying\u001b[0m\u001b[0;34m(\u001b[0m\u001b[0ma\u001b[0m\u001b[0;34m,\u001b[0m\u001b[0mb\u001b[0m\u001b[0;34m)\u001b[0m\u001b[0;34m:\u001b[0m\u001b[0;34m\u001b[0m\u001b[0;34m\u001b[0m\u001b[0m\n\u001b[1;32m      3\u001b[0m     \u001b[0mstdlib\u001b[0m\u001b[0;34m.\u001b[0m\u001b[0massert_true\u001b[0m\u001b[0;34m(\u001b[0m\u001b[0ma\u001b[0m\u001b[0;34m,\u001b[0m \u001b[0;32mlambda\u001b[0m \u001b[0ma\u001b[0m\u001b[0;34m:\u001b[0m \u001b[0ma\u001b[0m\u001b[0;34m>\u001b[0m\u001b[0;36m0\u001b[0m\u001b[0;34m)\u001b[0m\u001b[0;34m\u001b[0m\u001b[0;34m\u001b[0m\u001b[0m\n\u001b[0;32m----> 4\u001b[0;31m     \u001b[0mprint\u001b[0m\u001b[0;34m(\u001b[0m\u001b[0mx\u001b[0m\u001b[0;34m)\u001b[0m\u001b[0;34m\u001b[0m\u001b[0;34m\u001b[0m\u001b[0m\n\u001b[0m\u001b[1;32m      5\u001b[0m     \u001b[0;32mreturn\u001b[0m \u001b[0mdict\u001b[0m\u001b[0;34m(\u001b[0m\u001b[0mc\u001b[0m\u001b[0;34m=\u001b[0m\u001b[0mx\u001b[0m\u001b[0;34m)\u001b[0m\u001b[0;34m\u001b[0m\u001b[0;34m\u001b[0m\u001b[0m\n",
      "\u001b[0;31mNameError\u001b[0m: name 'x' is not defined"
     ]
    }
   ],
   "source": [
    "m = trying.build()"
   ]
  },
  {
   "cell_type": "code",
   "execution_count": 18,
   "metadata": {
    "ExecuteTime": {
     "end_time": "2019-12-26T15:58:12.200736Z",
     "start_time": "2019-12-26T15:58:12.195722Z"
    }
   },
   "outputs": [
    {
     "data": {
      "text/plain": [
       "[]"
      ]
     },
     "execution_count": 18,
     "metadata": {},
     "output_type": "execute_result"
    }
   ],
   "source": [
    "m.compute(init = dict(a=1, b=0), vout='c')"
   ]
  },
  {
   "cell_type": "code",
   "execution_count": null,
   "metadata": {},
   "outputs": [],
   "source": []
  },
  {
   "cell_type": "code",
   "execution_count": null,
   "metadata": {},
   "outputs": [],
   "source": []
  }
 ],
 "metadata": {
  "kernelspec": {
   "display_name": "Python 3",
   "language": "python",
   "name": "python3"
  },
  "language_info": {
   "codemirror_mode": {
    "name": "ipython",
    "version": 3
   },
   "file_extension": ".py",
   "mimetype": "text/x-python",
   "name": "python",
   "nbconvert_exporter": "python",
   "pygments_lexer": "ipython3",
   "version": "3.7.4"
  }
 },
 "nbformat": 4,
 "nbformat_minor": 2
}
