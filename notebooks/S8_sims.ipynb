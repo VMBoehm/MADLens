{
 "cells": [
  {
   "cell_type": "markdown",
   "metadata": {},
   "source": [
    "# Loads maps and and crops them to the same size"
   ]
  },
  {
   "cell_type": "code",
   "execution_count": 1,
   "metadata": {},
   "outputs": [],
   "source": [
    "import os\n",
    "import numpy as np\n",
    "import scipy\n",
    "import matplotlib.pyplot as plt\n",
    "import copy\n",
    "plt.style.use('seaborn-notebook')"
   ]
  },
  {
   "cell_type": "code",
   "execution_count": 2,
   "metadata": {},
   "outputs": [],
   "source": [
    "from MADLens.util import *"
   ]
  },
  {
   "cell_type": "code",
   "execution_count": 3,
   "metadata": {},
   "outputs": [
    {
     "name": "stdout",
     "output_type": "stream",
     "text": [
      "2120673\n",
      "['small_run.json', 'test_run_20.json', 'small_run_0.json', 'test_run_40.json', 'test_run_00.json', 'small_run_10.json', 'small_run_00.json', 'test_run_30.json', 'test_run_10.json']\n",
      "b2f7b0b\n",
      "['test_run_20.json', 'test_run_40.json', 'test_run_00.json', 'test_run_30.json', 'test_run_10.json']\n",
      "eba3a69\n",
      "['test_run_20.json', 'test_run_40.json', 'test_run_00.json', 'test_run_30.json', 'test_run_10.json']\n",
      "de321bb\n",
      "['small_run.json']\n",
      "58fb8b3\n",
      "['small_run.json']\n",
      "43458b5\n",
      "['small_run.json']\n",
      "106b3db\n",
      "['small_run.json']\n",
      "f05cdbe\n",
      "['test_run_20.json', 'test_run_40.json', 'test_run_00.json', 'test_run_30.json', 'test_run_10.json']\n",
      "ec8628e\n",
      "['test_run_00.json']\n",
      "7c44cd7\n",
      "['highres0.json']\n",
      "9a9d190\n",
      "['test_run_20.json', 'test_run_40.json', 'test_run_00.json', 'test_run_30.json', 'test_run_10.json']\n",
      "c2e0cbf\n",
      "['small_run.json']\n",
      "e0d2dc0\n",
      "['small_run.json']\n",
      "ea1d8fd\n",
      "['test_run_01.json', 'test_run_00.json']\n",
      "6252a18\n",
      "['small_run.json']\n"
     ]
    }
   ],
   "source": [
    "run_dir   = '../runs'\n",
    "githashes = os.listdir(run_dir)\n",
    "for githash in githashes:\n",
    "    print(githash)\n",
    "    path = os.path.join(run_dir,githash)\n",
    "    print(os.listdir(path))"
   ]
  },
  {
   "cell_type": "code",
   "execution_count": 4,
   "metadata": {},
   "outputs": [],
   "source": [
    "fov_min,fov_max,Omega_ms,sigma8s, _, _ = pickle.load(open(os.path.join('../run_specs','S_8_small_run.pkl'),'rb'))\n",
    "param_path  = '/global/homes/v/vboehm/codes/MADLens/runs/'\n",
    "git_hash    = 'de321bb'\n",
    "label       = 'small_run'"
   ]
  },
  {
   "cell_type": "code",
   "execution_count": null,
   "metadata": {},
   "outputs": [],
   "source": []
  },
  {
   "cell_type": "code",
   "execution_count": 5,
   "metadata": {},
   "outputs": [],
   "source": [
    "params_file = os.path.join(param_path,git_hash,label+'.json')\n",
    "with open(params_file, 'r') as f:\n",
    "    params = json.load(f)\n",
    "map_dir = os.path.join(params['results_path'],'maps',params['label'])"
   ]
  },
  {
   "cell_type": "code",
   "execution_count": 6,
   "metadata": {},
   "outputs": [],
   "source": [
    "BoxSize2D = [deg/180.*np.pi for deg in params['BoxSize2D']]\n",
    "pm2D      = ParticleMesh(BoxSize=BoxSize2D, Nmesh=params['Nmesh2D'],resampler='cic')"
   ]
  },
  {
   "cell_type": "code",
   "execution_count": 19,
   "metadata": {},
   "outputs": [
    {
     "data": {
      "text/plain": [
       "3412.0128389966007"
      ]
     },
     "execution_count": 19,
     "metadata": {},
     "output_type": "execute_result"
    }
   ],
   "source": [
    "fov_min/fov_max*params['Nmesh2D'][0]"
   ]
  },
  {
   "cell_type": "code",
   "execution_count": 24,
   "metadata": {},
   "outputs": [],
   "source": [
    "def lowpass_transfer(r):\n",
    "    def filter(k, v):\n",
    "        k2 = sum(ki ** 2 for ki in k)\n",
    "        return np.exp(-0.5 * k2 * r**2) * v\n",
    "    return filter\n",
    "\n",
    "def get_fov(cosmo,BoxSize,z_source):\n",
    "    \"\"\"\n",
    "    get the field of view (in degrees) for given boxsize and source redshift\n",
    "    \"\"\"\n",
    "    chi_source = cosmo.angular_diameter_distance(z_source)*(1+z_source)\n",
    "    fov        = BoxSize[0:2]/chi_source/np.pi*180.\n",
    "    return fov\n",
    "\n",
    "desired_fov = fov_min\n",
    "\n",
    "\n",
    "def crop_map(mymap,desired_fov,desired_pixel_num,params,cosmo,zs=1):\n",
    "    fov     = get_fov(cosmo,params['BoxSize'],z_source=zs)\n",
    "    pix_size= fov/params['Nmesh2D']\n",
    "    num_pix = np.cast['int32'](np.round((desired_fov/(pix_size))))\n",
    "    print(num_pix)\n",
    "    new_pm  = ParticleMesh(BoxSize=[desired_fov/180.*np.pi]*2, Nmesh=num_pix)\n",
    "    new_map = new_pm.create(type='real',value=mymap.value[:num_pix[0],:num_pix[0]])\n",
    "    new_pm  = ParticleMesh(BoxSize=[desired_fov/180.*np.pi]*2, Nmesh=[desired_pixel_num]*2, resampler='cic')\n",
    "    new_map = new_pm.downsample(new_map,resampler='cic',keep_mean=True)\n",
    "    new_map = new_map.r2c().apply(lowpass_transfer(pix_size[0]/180.*np.pi*4.)).c2r()\n",
    "    \n",
    "    return new_map"
   ]
  },
  {
   "cell_type": "code",
   "execution_count": null,
   "metadata": {},
   "outputs": [
    {
     "name": "stdout",
     "output_type": "stream",
     "text": [
      "[4096 4096]\n"
     ]
    }
   ],
   "source": [
    "my_cropped_maps =[]\n",
    "for ii in range(len(Omega_ms))[0:10]:\n",
    "    Omega_m   = Omega_ms[ii]\n",
    "    sigma_8   = sigma8s[ii]\n",
    "    cosmo     = Planck15.match(Omega0_m=Omega_m)\n",
    "    cosmo     = cosmo.match(sigma8=sigma_8)\n",
    "    map_file  = os.path.join(map_dir,'map_decon_zsource%d_cosmo%d'%(params['zs_source'][0]*10,ii)+'.npy')\n",
    "    kappa_map = np.load(map_file).reshape(*pm2D.Nmesh)\n",
    "    kappa_map = pm2D.create(type='real',value=kappa_map)\n",
    "    my_cropped_maps+=[crop_map(kappa_map,desired_fov,2048,params,cosmo)]"
   ]
  },
  {
   "cell_type": "code",
   "execution_count": null,
   "metadata": {},
   "outputs": [],
   "source": [
    "plt.figure(figsize=(10,10))\n",
    "for jj in range(len(Omega_ms))[0:10]:\n",
    "    plt.title('$z_s$=%.1f'%1,fontsize=12)\n",
    "    L, clkk, _= get_2Dpower(my_cropped_maps[jj])\n",
    "    #p= plt.loglog(my_runs[jj].measured_cls[str(zs)]['L'],my_runs[jj].measured_cls[str(zs)]['L']**2*my_runs[jj].measured_cls[str(zs)]['clkk'],label='measured')\n",
    "    #p = plt.semilogx(my_runs[jj].theory_cls[str(zs)]['L'],my_runs[jj].theory_cls[str(zs)]['L']**2*my_runs[jj].theory_cls[str(zs)]['clkk'])#,color=p[0].get_color(),ls='--',label='halofit')\n",
    "    plt.semilogx(L,L**2*clkk,label='resampled')\n",
    "    if jj==0:\n",
    "        plt.legend(fontsize=12)\n",
    "plt.ylabel('$C_L^{\\kappa \\kappa}$',fontsize=14)\n",
    "plt.xlabel('L',fontsize=12)"
   ]
  },
  {
   "cell_type": "code",
   "execution_count": null,
   "metadata": {},
   "outputs": [],
   "source": [
    "for ii in range(len(Omega_ms))[0:10]:\n",
    "    plt.figure(figsize=(10,10))\n",
    "    plt.title('$\\Omega_m=%.2f$, $\\sigma_8=%.2f$'%(Omega_ms[ii],sigma8s[ii]))\n",
    "    plt.imshow(my_cropped_maps[ii],cmap='jet',vmin=0, vmax=0.4)\n",
    "    plt.colorbar()\n",
    "    plt.axis('off')\n",
    "plt.show()"
   ]
  },
  {
   "cell_type": "code",
   "execution_count": null,
   "metadata": {},
   "outputs": [],
   "source": [
    "1/256./1e-3"
   ]
  },
  {
   "cell_type": "code",
   "execution_count": null,
   "metadata": {},
   "outputs": [],
   "source": [
    ", Planck15.sigma8\n"
   ]
  },
  {
   "cell_type": "code",
   "execution_count": null,
   "metadata": {},
   "outputs": [],
   "source": [
    "6*60*60/4096"
   ]
  },
  {
   "cell_type": "code",
   "execution_count": null,
   "metadata": {},
   "outputs": [],
   "source": []
  }
 ],
 "metadata": {
  "kernelspec": {
   "display_name": "MADLens",
   "language": "python",
   "name": "fwdmodel"
  },
  "language_info": {
   "codemirror_mode": {
    "name": "ipython",
    "version": 3
   },
   "file_extension": ".py",
   "mimetype": "text/x-python",
   "name": "python",
   "nbconvert_exporter": "python",
   "pygments_lexer": "ipython3",
   "version": "3.7.4"
  }
 },
 "nbformat": 4,
 "nbformat_minor": 4
}
