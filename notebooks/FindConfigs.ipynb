{
 "cells": [
  {
   "cell_type": "markdown",
   "metadata": {},
   "source": [
    "### some useful functions to figure out which settings to use"
   ]
  },
  {
   "cell_type": "code",
   "execution_count": null,
   "metadata": {},
   "outputs": [],
   "source": [
    "from nbodykit.cosmology import Planck15\n",
    "import numpy as np\n",
    "import matplotlib.pyplot as plt"
   ]
  },
  {
   "cell_type": "code",
   "execution_count": null,
   "metadata": {},
   "outputs": [],
   "source": [
    "def a2z(a):\n",
    "    return 1./a-1\n",
    "\n",
    "def z2a(z):\n",
    "    return 1./(1.+z)"
   ]
  },
  {
   "cell_type": "code",
   "execution_count": null,
   "metadata": {},
   "outputs": [],
   "source": [
    "def get_physical_width(cosmology,z_source,fov):\n",
    "    \"\"\"returns physical extent (comoving angular diameter distance) in Mpc/h \n",
    "    of a field of view (fov,in degrees) \n",
    "    at source redhsift z_source for a specific cosmology\"\"\"\n",
    "    chi_source = cosmology.angular_diameter_distance(z_source)\n",
    "    fov_rad    = fov/180.*np.pi\n",
    "    width      = fov_rad*chi_source\n",
    "    \n",
    "    return width*(1+z_source)"
   ]
  },
  {
   "cell_type": "code",
   "execution_count": null,
   "metadata": {},
   "outputs": [],
   "source": [
    "def get_volume(z_source,FOV, cosmo):\n",
    "    \"\"\"\n",
    "    returns the comoving volume of the lightcone in [Mpc/h]^3\n",
    "    z_source: highest source redshift\n",
    "    FOV: field of view in degrees (2D, in degrees)\n",
    "    \"\"\"\n",
    "    h = cosmo.comoving_distance(z_source)\n",
    "    ls= [deg/180.*np.pi*h for deg in FOV]\n",
    "    V = np.prod(ls)*h/3.\n",
    "    return V"
   ]
  },
  {
   "cell_type": "code",
   "execution_count": null,
   "metadata": {},
   "outputs": [],
   "source": [
    "def get_fov(cosmo,BoxSize,z_source):\n",
    "    \"\"\"\n",
    "    get the field of view (in degrees) for given boxsize and source redshift\n",
    "    \"\"\"\n",
    "    chi_source = cosmo.angular_diameter_distance(z_source)*(1+z_source)\n",
    "    fov        = BoxSize/chi_source/np.pi*180.\n",
    "    return fov"
   ]
  },
  {
   "cell_type": "code",
   "execution_count": null,
   "metadata": {},
   "outputs": [],
   "source": [
    "def get_num_boxes(cosmo, boxsize, z_source):\n",
    "    \"\"\"\n",
    "    number of box repetitions up source redshift\n",
    "    \"\"\"\n",
    "    h   = cosmo.comoving_distance(z_source)\n",
    "    num = h/boxsize\n",
    "    return num"
   ]
  },
  {
   "cell_type": "code",
   "execution_count": null,
   "metadata": {},
   "outputs": [],
   "source": [
    "cosmo_fid  = Planck15\n",
    "cosmo_min  = Planck15.match(Omega0_m=0.05)\n",
    "cosmo_max  = Planck15.match(Omega0_m=0.95)\n",
    "boxsize    = 156\n",
    "z_source   = 1.\n",
    "\n",
    "print(get_fov(cosmo_fid,boxsize,z_source))\n",
    "print(get_fov(cosmo_min,boxsize,z_source))\n",
    "print(get_fov(cosmo_max,boxsize,z_source))\n",
    "\n",
    "print(get_num_boxes(cosmo_fid,boxsize,z_source))\n",
    "print(get_num_boxes(cosmo_min,boxsize,z_source))\n",
    "print(get_num_boxes(cosmo_max,boxsize,z_source))"
   ]
  },
  {
   "cell_type": "code",
   "execution_count": null,
   "metadata": {},
   "outputs": [],
   "source": [
    "cosmo_fid  = Planck15\n",
    "cosmo_min  = Planck15.match(Omega0_m=0.05)\n",
    "cosmo_max  = Planck15.match(Omega0_m=0.95)\n",
    "boxsize    = 256\n",
    "z_source   = 1.\n",
    "\n",
    "print(get_fov(cosmo_fid,boxsize,z_source))\n",
    "print(get_fov(cosmo_min,boxsize,z_source))\n",
    "print(get_fov(cosmo_max,boxsize,z_source))\n",
    "\n",
    "print(get_num_boxes(cosmo_fid,boxsize,z_source))\n",
    "print(get_num_boxes(cosmo_min,boxsize,z_source))\n",
    "print(get_num_boxes(cosmo_max,boxsize,z_source))"
   ]
  },
  {
   "cell_type": "code",
   "execution_count": null,
   "metadata": {},
   "outputs": [],
   "source": [
    "#cosmo_fid  = Planck15\n"
   ]
  },
  {
   "cell_type": "code",
   "execution_count": null,
   "metadata": {},
   "outputs": [],
   "source": [
    "#S_8 at fiducial\n",
    "def S_8(Omega_m, sigma_8):\n",
    "    return sigma_8*(Omega_m/0.3)**0.5\n",
    "\n",
    "def sigma_8(Omega_m,S_8_fid):\n",
    "    return S_8_fid*(Omega_m/0.3)**(-0.5)"
   ]
  },
  {
   "cell_type": "code",
   "execution_count": null,
   "metadata": {},
   "outputs": [],
   "source": [
    "S_8_fid = S_8(Planck15.Omega_m(0),Planck15.sigma8)"
   ]
  },
  {
   "cell_type": "code",
   "execution_count": null,
   "metadata": {},
   "outputs": [],
   "source": [
    "sigma_Omega=0.015"
   ]
  },
  {
   "cell_type": "code",
   "execution_count": null,
   "metadata": {},
   "outputs": [],
   "source": [
    "Omega_m_min =Planck15.Omega_m(0)-5*sigma_Omega\n",
    "Omega_m_max =Planck15.Omega_m(0)+5*sigma_Omega\n",
    "print(Omega_m_min,Omega_m_max)"
   ]
  },
  {
   "cell_type": "code",
   "execution_count": null,
   "metadata": {},
   "outputs": [],
   "source": [
    "Omega_ms = np.linspace(Omega_m_min,Omega_m_max,100*100)"
   ]
  },
  {
   "cell_type": "code",
   "execution_count": null,
   "metadata": {},
   "outputs": [],
   "source": [
    "sigma8s  = sigma_8(Omega_ms,S_8_fid)"
   ]
  },
  {
   "cell_type": "code",
   "execution_count": null,
   "metadata": {},
   "outputs": [],
   "source": [
    "plt.title('$S_8$=%.2f'%S_8_fid, fontsize=14)\n",
    "plt.scatter(Omega_ms,sigma8s, marker='+')\n",
    "plt.ylabel('$\\sigma_8$',fontsize=14)\n",
    "plt.xlabel('$\\Omega_m$',fontsize=14)\n",
    "plt.show()"
   ]
  },
  {
   "cell_type": "code",
   "execution_count": null,
   "metadata": {},
   "outputs": [],
   "source": [
    "cosmo_min  = Planck15.match(Omega0_m=Omega_m_min)\n",
    "cosmo_max  = Planck15.match(Omega0_m=Omega_m_max)\n",
    "boxsize    = 256\n",
    "z_source   = 1.\n",
    "\n",
    "fov_min = get_fov(cosmo_min,boxsize,z_source)\n",
    "fov_max = get_fov(cosmo_max,boxsize,z_source)\n",
    "\n",
    "num_box_min = get_num_boxes(cosmo_min,boxsize,z_source)\n",
    "num_box_max = get_num_boxes(cosmo_max,boxsize,z_source)"
   ]
  },
  {
   "cell_type": "code",
   "execution_count": null,
   "metadata": {},
   "outputs": [],
   "source": [
    "print(fov_min,fov_max)"
   ]
  },
  {
   "cell_type": "code",
   "execution_count": null,
   "metadata": {},
   "outputs": [],
   "source": [
    "import pickle"
   ]
  },
  {
   "cell_type": "code",
   "execution_count": null,
   "metadata": {},
   "outputs": [],
   "source": [
    "path = '/global/homes/v/vboehm/codes/MADLens/run_specs/'\n"
   ]
  },
  {
   "cell_type": "code",
   "execution_count": null,
   "metadata": {},
   "outputs": [],
   "source": [
    "from scipy.interpolate import interp1d"
   ]
  },
  {
   "cell_type": "code",
   "execution_count": null,
   "metadata": {},
   "outputs": [],
   "source": [
    "for ii in range(100):\n",
    "    try:\n",
    "        _ = pickle.load(open(path+'S_8_small_run_%d.pkl'%ii,'rb'))\n",
    "    except:\n",
    "        print(ii)\n",
    "        Pk_interp=[]\n",
    "        for nn, (Omega_m, sigma8) in enumerate(zip(Omega_ms[ii*100:(ii+1)*100],sigma8s[ii*100:(ii+1)*100])):\n",
    "            cosmo = Planck15.match(Omega0_m=Omega_m)\n",
    "            cosmo = cosmo.match(sigma8=sigma8)\n",
    "            ks    = np.logspace(-3.2,2.5,170)\n",
    "            Pk    = cosmo.get_pklin(ks,0)\n",
    "            Pk_interp+=[interp1d(np.log(ks),np.log(Pk),fill_value='extrapolate')]\n",
    "            if nn%10==0:\n",
    "                ks_test = np.logspace(-3.3,2.6,400)\n",
    "                plt.semilogx(ks_test, np.exp(Pk_interp[-1](np.log(ks_test)))/cosmo.get_pklin(ks_test,0))\n",
    "                plt.show()\n",
    "        pickle.dump([fov_min,fov_max,Omega_ms,sigma8s,ks,Pk_interp],open(path+'S_8_small_run_%d.pkl'%ii,'wb'))"
   ]
  },
  {
   "cell_type": "code",
   "execution_count": null,
   "metadata": {},
   "outputs": [],
   "source": []
  },
  {
   "cell_type": "code",
   "execution_count": null,
   "metadata": {},
   "outputs": [],
   "source": []
  }
 ],
 "metadata": {
  "kernelspec": {
   "display_name": "MADLens",
   "language": "python",
   "name": "fwdmodel"
  },
  "language_info": {
   "codemirror_mode": {
    "name": "ipython",
    "version": 3
   },
   "file_extension": ".py",
   "mimetype": "text/x-python",
   "name": "python",
   "nbconvert_exporter": "python",
   "pygments_lexer": "ipython3",
   "version": "3.7.4"
  }
 },
 "nbformat": 4,
 "nbformat_minor": 4
}
