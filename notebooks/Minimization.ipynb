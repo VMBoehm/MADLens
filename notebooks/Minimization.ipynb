{
 "cells": [
  {
   "cell_type": "code",
   "execution_count": 2,
   "metadata": {},
   "outputs": [],
   "source": [
    "from vmad import autooperator\n",
    "from vmad.lib import linalg\n",
    "from vmad.contrib.chisquare import MPIChiSquareProblem, MPIVectorSpace\n",
    "from abopt.abopt2 import Preconditioner\n",
    "from abopt.abopt2 import LBFGS, TrustRegionCG\n",
    "\n",
    "from MADLens.lightcone import *\n",
    "from nbodykit.cosmology import Planck15, LinearPower\n",
    "import scipy\n",
    "from mpi4py import MPI\n",
    "from absl import app\n",
    "from absl import flags\n",
    "import subprocess\n",
    "\n",
    "comm = MPI.COMM_WORLD\n",
    "rank = comm.Get_rank()\n",
    "\n",
    "from abopt.abopt2 import LBFGS, TrustRegionCG\n",
    "import numpy as np"
   ]
  },
  {
   "cell_type": "code",
   "execution_count": 3,
   "metadata": {},
   "outputs": [],
   "source": [
    "randseed = 123\n",
    "flags.DEFINE_float('noise_variance',0.1,'noise std')\n",
    "flags.DEFINE_float('boxsize',32.,'size of the simulation box in Mpc/h')\n",
    "flags.DEFINE_integer('Nmesh',32,'resolution of fastPM mesh')\n",
    "flags.DEFINE_integer('Nmesh2D',256, 'resolution of lensing map')\n",
    "flags.DEFINE_float('boxsize2D',6.37616,'field of view in degrees (default is optimal for default settings, use FindConfigs.ipynb notebook to find optimal fov for your setting.')\n",
    "flags.DEFINE_integer('N_steps',11,'number of fastPM steps')\n",
    "#bounds from KIDS contours, default values from Planck2015\n",
    "flags.DEFINE_float('Omega_m',0.3089,'total matter density', lower_bound=0.1, upper_bound=0.5)\n",
    "flags.DEFINE_float('sigma_8',0.8158,'amplitude of matter fluctuations', lower_bound=0.4, upper_bound=1.3)\n",
    "flags.DEFINE_boolean('PGD',False,'whether to use PGD sharpening')\n",
    "flags.DEFINE_integer('B',2,'force resolution factor')\n",
    "flags.DEFINE_spaceseplist('zs_source',['0.1','0.2'],'source redshifts')\n",
    "flags.DEFINE_boolean('interpolate',False,'whether to interpolate between snapshots')\n",
    "flags.DEFINE_boolean('debug',True,'debug mode allows to run repeatedly with the same settings')\n",
    "flags.DEFINE_boolean('save3D',False,'whether to dump the snapshots, requires interp to be set to False')\n",
    "flags.DEFINE_boolean('save3Dpower', False, 'whether to measure and save the power spectra of the snapshots')\n",
    "flags.DEFINE_enum('mode', 'backprop', ['forward','backprop'],'whether to run the forward model only or include backpropagation')\n",
    "flags.DEFINE_boolean('analyze', False, 'whether to print out resource usage')\n",
    "flags.DEFINE_string('label', 'test_run', 'label of this run')"
   ]
  },
  {
   "cell_type": "code",
   "execution_count": 4,
   "metadata": {},
   "outputs": [],
   "source": [
    "FLAGS = flags.FLAGS\n",
    "params              = FLAGS.flag_values_dict()\n",
    "params['Nmesh']     = [params['Nmesh']]*3\n",
    "params['BoxSize']   = [params['boxsize']]*3\n",
    "params['Nmesh2D']   = [params['Nmesh2D']]*2\n",
    "params['BoxSize2D'] = [params['boxsize2D']]*2\n",
    "params['zs_source'] = [float(zs) for zs in params['zs_source']]\n",
    "cosmo = Planck15.match(Omega0_m=params['Omega_m'])\n",
    "cosmo = cosmo.match(sigma8=params['sigma_8'])"
   ]
  },
  {
   "cell_type": "code",
   "execution_count": 5,
   "metadata": {},
   "outputs": [],
   "source": [
    "def convolve(power_spectrum, field):\n",
    "    \"\"\" Convolve a field with a power spectrum.\n",
    "        Preserve the type of the output field.\n",
    "    \"\"\"\n",
    "    c = field.cast(type='complex')\n",
    "    c = c.apply(lambda k, v: (power_spectrum(k.normp() ** 0.5) / c.pm.BoxSize.prod()) ** 0.5 * v)\n",
    "    return c.cast(type=type(field))"
   ]
  },
  {
   "cell_type": "code",
   "execution_count": 6,
   "metadata": {},
   "outputs": [],
   "source": [
    "def generate_ics(pm, randseed, cosmo):\n",
    "    \n",
    "    rho       = pm.generate_whitenoise(seed=randseed, unitary=False, type='complex')\n",
    "    rho       = rho.apply(lambda k, v:(cosmo.get_pklin(k.normp(2) ** 0.5, 0) / pm.BoxSize.prod()) ** 0.5 * v)\n",
    "    #set zero mode to zero\n",
    "    rho.csetitem([0, 0, 0], 0)\n",
    "    \n",
    "    return rho"
   ]
  },
  {
   "cell_type": "code",
   "execution_count": 17,
   "metadata": {},
   "outputs": [
    {
     "name": "stdout",
     "output_type": "stream",
     "text": [
      "number of box replications required to fill field of view: 2.0\n",
      "insufficient number of rotations to fill lightcone\n"
     ]
    }
   ],
   "source": [
    "pm        = fastpm.ParticleMesh(Nmesh=params['Nmesh'], BoxSize=params['BoxSize'], comm=MPI.COMM_WORLD, resampler='cic')\n",
    "\n",
    "    # 2D FOV in radians\n",
    "BoxSize2D = [deg/180.*np.pi for deg in params['BoxSize2D']]\n",
    "\n",
    "np.random.seed(randseed)\n",
    "randseeds = np.random.randint(0,1e6,100)\n",
    "\n",
    "    # generate initial conditions\n",
    "cosmo     = cosmo.clone(P_k_max=30)\n",
    "\n",
    "\n",
    "    # weak lensing simulation object\n",
    "wlsim     = WLSimulation(stages = numpy.linspace(0.1, 1.0, params['N_steps'], endpoint=True), cosmology=cosmo, pm=pm, boxsize2D=BoxSize2D, params=params)\n",
    "\n",
    "model     = wlsim.run"
   ]
  },
  {
   "cell_type": "code",
   "execution_count": 8,
   "metadata": {},
   "outputs": [],
   "source": [
    "@autooperator('nl, s, fs->y')\n",
    "def PriorOperator( nl, s, fs, invS):\n",
    "    # when |s|^2 and invS are the same, this is supposed\n",
    "    # to return 1.0\n",
    "    fac = s.eval(\"x.pm.Nmesh.prod() ** -0.5\")\n",
    "    fac = fac * (invS ** 0.5)\n",
    "    s_over_Shalf = s * fac\n",
    "    r = fastpm.c2r(s_over_Shalf)\n",
    "    return dict(y = r)\n",
    "\n",
    "\n",
    "@autooperator('nl, s, fs -> y')\n",
    "def NLResidualOperator(nl, s, fs, d, invvar):\n",
    "    r = linalg.add(fs, d * -1)\n",
    "    r = linalg.mul(r, invvar ** 0.5)\n",
    "    return dict(y = r)"
   ]
  },
  {
   "cell_type": "code",
   "execution_count": 9,
   "metadata": {},
   "outputs": [],
   "source": [
    "class FastPMVectorSpace(MPIVectorSpace):\n",
    "    def dot(self, a, b):\n",
    "        \"\"\" einsum('i,i->', a, b) \"\"\"\n",
    "        if isinstance(a, Field):\n",
    "            return a.cdot(b).real\n",
    "        else:\n",
    "            return self.comm.allreduce(numpy.sum(a * b))\n",
    "\n",
    "class ChiSquareProblem(MPIChiSquareProblem):\n",
    "    ComplexOptimizer = Preconditioner(Pvp=lambda x, direction: x, vPp=lambda x, direction: x)\n",
    "\n",
    "    RealOptimizer = Preconditioner(\n",
    "        Pvp=lambda x, direction:\n",
    "            x.c2r() / x.Nmesh.prod() if direction > 0 else x.c2r(),\n",
    "        vPp=lambda x, direction:\n",
    "            x.r2c() if direction > 0 else x.r2c() * x.Nmesh.prod()\n",
    "    )\n",
    "\n",
    "    def __init__(self, comm, forward_operator, residuals):\n",
    "        vs = FastPMVectorSpace(comm)\n",
    "        MPIChiSquareProblem.__init__(self, comm, forward_operator, residuals, vs)\n"
   ]
  },
  {
   "cell_type": "code",
   "execution_count": 10,
   "metadata": {},
   "outputs": [],
   "source": [
    "def minimize(problem, s_ini_, data_, mini):\n",
    "    \"\"\"\n",
    "    s_ini_: initial guess\n",
    "    data_ : input data\n",
    "    mini  : minimizer\n",
    "    \"\"\"\n",
    "    \n",
    "    def monitor(state):\n",
    "        log.print('time',state['wallclock'],'nit:',state['nit'],'gnorm:',state['gnorm'],'y:',state['y'],'dy:',state['dy'],'fev:',state['fev'],'converged:',state['converged'],'message:',state['message'])\n",
    "        if state['dxnorm'] is not None:\n",
    "            log.fileprint('%d %f %f %f %f %f %d %d %d'%(state['nit'],state['gnorm'],state['y'],state['dy'],state['xnorm'],state['dxnorm'],state['converged'],state['fev'],state['gev']))\n",
    "        if state['nit'] in settings['dump_iter'] or state['converged']==True:\n",
    "            print(state['nit'],state['nit'] in settings['dump_iter'],state['converged']==True)\n",
    "\n",
    "    r = mini.minimize(problem, s_ini_, monitor=monitor)"
   ]
  },
  {
   "cell_type": "code",
   "execution_count": 11,
   "metadata": {},
   "outputs": [],
   "source": [
    "def generate_noise(noise_variance):\n",
    "    \"\"\"\n",
    "    noise_variance\n",
    "    \"\"\"\n",
    "    pass"
   ]
  },
  {
   "cell_type": "code",
   "execution_count": null,
   "metadata": {},
   "outputs": [],
   "source": [
    "s_true  = generate_ics(pm, randseeds[0], cosmo)\n",
    "\n",
    "fs      = model.build().compute(vout='kmaps', init=dict(rhok=s_true),return_tape=False)\n",
    "\n",
    "S_fid   = convolve(LinearPower(cosmo,0), pm.create(type='complex', value=1)) ** 2\n",
    "\n",
    "#noise  = generate_noise\n",
    "data    = fs #+noise"
   ]
  },
  {
   "cell_type": "code",
   "execution_count": 14,
   "metadata": {},
   "outputs": [
    {
     "name": "stdout",
     "output_type": "stream",
     "text": [
      "<vmad.core.operator.InstanceOperator object at 0x7f1c5095bc50>\n"
     ]
    },
    {
     "ename": "TypeError",
     "evalue": "AutoOperator object argument after * must be an iterable, not Symbol",
     "output_type": "error",
     "traceback": [
      "\u001b[0;31m---------------------------------------------------------------------------\u001b[0m",
      "\u001b[0;31mTypeError\u001b[0m                                 Traceback (most recent call last)",
      "\u001b[0;32m<ipython-input-14-9b2369372eab>\u001b[0m in \u001b[0;36m<module>\u001b[0;34m\u001b[0m\n\u001b[1;32m      4\u001b[0m             [\n\u001b[1;32m      5\u001b[0m                 \u001b[0mPriorOperator\u001b[0m\u001b[0;34m.\u001b[0m\u001b[0mbind\u001b[0m\u001b[0;34m(\u001b[0m\u001b[0minvS\u001b[0m\u001b[0;34m=\u001b[0m\u001b[0mS_fid\u001b[0m \u001b[0;34m**\u001b[0m \u001b[0;34m-\u001b[0m\u001b[0;36m1\u001b[0m\u001b[0;34m)\u001b[0m\u001b[0;34m,\u001b[0m\u001b[0;34m\u001b[0m\u001b[0;34m\u001b[0m\u001b[0m\n\u001b[0;32m----> 6\u001b[0;31m                 \u001b[0mNLResidualOperator\u001b[0m\u001b[0;34m.\u001b[0m\u001b[0mbind\u001b[0m\u001b[0;34m(\u001b[0m\u001b[0md\u001b[0m\u001b[0;34m=\u001b[0m\u001b[0mdata\u001b[0m\u001b[0;34m,\u001b[0m \u001b[0minvvar\u001b[0m\u001b[0;34m=\u001b[0m\u001b[0mparams\u001b[0m\u001b[0;34m[\u001b[0m\u001b[0;34m'noise_variance'\u001b[0m\u001b[0;34m]\u001b[0m \u001b[0;34m**\u001b[0m \u001b[0;34m-\u001b[0m\u001b[0;36m1\u001b[0m\u001b[0;34m)\u001b[0m\u001b[0;34m\u001b[0m\u001b[0;34m\u001b[0m\u001b[0m\n\u001b[0m\u001b[1;32m      7\u001b[0m             ],\n\u001b[1;32m      8\u001b[0m )\n",
      "\u001b[0;32m~/Documents/codes/vmad/vmad/contrib/chisquare.py\u001b[0m in \u001b[0;36m__init__\u001b[0;34m(self, comm, forward_operator, residuals, vectorspace)\u001b[0m\n\u001b[1;32m     62\u001b[0m             \u001b[0;31m# rather than building it again.\u001b[0m\u001b[0;34m\u001b[0m\u001b[0;34m\u001b[0m\u001b[0;34m\u001b[0m\u001b[0m\n\u001b[1;32m     63\u001b[0m             \u001b[0;32mfor\u001b[0m \u001b[0moperator\u001b[0m \u001b[0;32min\u001b[0m \u001b[0mself\u001b[0m\u001b[0;34m.\u001b[0m\u001b[0mresiduals\u001b[0m\u001b[0;34m:\u001b[0m\u001b[0;34m\u001b[0m\u001b[0;34m\u001b[0m\u001b[0m\n\u001b[0;32m---> 64\u001b[0;31m                 \u001b[0mr\u001b[0m \u001b[0;34m=\u001b[0m \u001b[0moperator\u001b[0m\u001b[0;34m(\u001b[0m\u001b[0;34m*\u001b[0m\u001b[0mfx\u001b[0m\u001b[0;34m)\u001b[0m\u001b[0;34m\u001b[0m\u001b[0;34m\u001b[0m\u001b[0m\n\u001b[0m\u001b[1;32m     65\u001b[0m                 \u001b[0mchi2\u001b[0m \u001b[0;34m=\u001b[0m \u001b[0mMPIChiSquareOperator\u001b[0m\u001b[0;34m(\u001b[0m\u001b[0mr\u001b[0m\u001b[0;34m,\u001b[0m \u001b[0mcomm\u001b[0m\u001b[0;34m)\u001b[0m\u001b[0;34m\u001b[0m\u001b[0;34m\u001b[0m\u001b[0m\n\u001b[1;32m     66\u001b[0m                 \u001b[0my\u001b[0m \u001b[0;34m=\u001b[0m \u001b[0mlinalg\u001b[0m\u001b[0;34m.\u001b[0m\u001b[0madd\u001b[0m\u001b[0;34m(\u001b[0m\u001b[0my\u001b[0m\u001b[0;34m,\u001b[0m \u001b[0mchi2\u001b[0m\u001b[0;34m)\u001b[0m\u001b[0;34m\u001b[0m\u001b[0;34m\u001b[0m\u001b[0m\n",
      "\u001b[0;31mTypeError\u001b[0m: AutoOperator object argument after * must be an iterable, not Symbol"
     ]
    }
   ],
   "source": [
    "print(model)\n",
    "\n",
    "problem = MPIChiSquareProblem(pm.comm,model,\n",
    "            [\n",
    "                PriorOperator.bind(invS=S_fid ** -1),\n",
    "                NLResidualOperator.bind(d=data, invvar=params['noise_variance'] ** -1)\n",
    "            ],\n",
    ")\n",
    "\n",
    "\n",
    "s_true  = generate_ics(pm, randseeds[0], cosmo)\n",
    "\n",
    "s_ini  = generate_ics(pm, randseeds[1], cosmo)*1e-4\n",
    "\n",
    "minimizer = LBFGS(maxiter=50,m=10, conviter=3)\n",
    "\n",
    "minimize(problem,s_ini,data,minimizer)\n",
    "\n",
    "\n"
   ]
  },
  {
   "cell_type": "code",
   "execution_count": null,
   "metadata": {},
   "outputs": [],
   "source": []
  }
 ],
 "metadata": {
  "kernelspec": {
   "display_name": "fwdmodel2",
   "language": "python",
   "name": "fwdmodel"
  },
  "language_info": {
   "codemirror_mode": {
    "name": "ipython",
    "version": 3
   },
   "file_extension": ".py",
   "mimetype": "text/x-python",
   "name": "python",
   "nbconvert_exporter": "python",
   "pygments_lexer": "ipython3",
   "version": "3.7.4"
  }
 },
 "nbformat": 4,
 "nbformat_minor": 2
}
