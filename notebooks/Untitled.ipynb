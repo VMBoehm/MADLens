{
 "cells": [
  {
   "cell_type": "code",
   "execution_count": 12,
   "metadata": {
    "ExecuteTime": {
     "end_time": "2020-01-17T20:35:06.473977Z",
     "start_time": "2020-01-17T20:35:06.471275Z"
    }
   },
   "outputs": [],
   "source": [
    "from vmad import Builder, autooperator, operator\n",
    "from vmad.core.stdlib import eval"
   ]
  },
  {
   "cell_type": "code",
   "execution_count": 21,
   "metadata": {
    "ExecuteTime": {
     "end_time": "2020-01-17T20:36:15.571216Z",
     "start_time": "2020-01-17T20:36:15.566921Z"
    }
   },
   "outputs": [],
   "source": [
    "@autooperator('a->b')\n",
    "def eval_test(a):\n",
    "    bool_test = eval(a, lambda a, test_value = 0: True if a > test_value else False)\n",
    "    if bool_test:\n",
    "        return dict(b=1)\n",
    "    else:\n",
    "        return dict(b=0)\n",
    "    \n",
    "    "
   ]
  },
  {
   "cell_type": "code",
   "execution_count": 22,
   "metadata": {
    "ExecuteTime": {
     "end_time": "2020-01-17T20:36:16.509503Z",
     "start_time": "2020-01-17T20:36:16.498658Z"
    }
   },
   "outputs": [
    {
     "data": {
      "text/plain": [
       "1"
      ]
     },
     "execution_count": 22,
     "metadata": {},
     "output_type": "execute_result"
    }
   ],
   "source": [
    "m = eval_test.build()\n",
    "m.compute(init = dict(a=-1), vout='b')"
   ]
  },
  {
   "cell_type": "code",
   "execution_count": null,
   "metadata": {},
   "outputs": [],
   "source": []
  }
 ],
 "metadata": {
  "kernelspec": {
   "display_name": "Python 3",
   "language": "python",
   "name": "python3"
  },
  "language_info": {
   "codemirror_mode": {
    "name": "ipython",
    "version": 3
   },
   "file_extension": ".py",
   "mimetype": "text/x-python",
   "name": "python",
   "nbconvert_exporter": "python",
   "pygments_lexer": "ipython3",
   "version": "3.7.4"
  }
 },
 "nbformat": 4,
 "nbformat_minor": 2
}
